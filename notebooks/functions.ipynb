{
 "cells": [
  {
   "cell_type": "markdown",
   "metadata": {},
   "source": [
    "## Some useful function while exploring WatNet"
   ]
  },
  {
   "cell_type": "markdown",
   "metadata": {},
   "source": [
    "1. Check raster resolution "
   ]
  },
  {
   "cell_type": "code",
   "execution_count": null,
   "metadata": {},
   "outputs": [],
   "source": [
    "# check tif resolution \n",
    "import rasterio\n",
    "\n",
    "# Path to your GeoTIFF file\n",
    "file_path = output_path\n",
    "\n",
    "# Open the GeoTIFF file\n",
    "with rasterio.open(file_path) as src:\n",
    "    # Get the transform (affine matrix) of the GeoTIFF file\n",
    "    transform = src.transform\n",
    "    \n",
    "    # Extract the pixel size in meters from the transform\n",
    "    pixel_width = transform.a\n",
    "    pixel_height = -transform.e  # Negative becuse the y-coordinate increases downward\n",
    "    \n",
    "    # Print the pixel size in meters\n",
    "    print(f\"Pixel size (width, height): {pixel_width:.2f} meters, {pixel_height:.2f} meters\")"
   ]
  },
  {
   "cell_type": "markdown",
   "metadata": {},
   "source": [
    "2. Add color interpretation for raster bands"
   ]
  },
  {
   "cell_type": "code",
   "execution_count": null,
   "metadata": {},
   "outputs": [],
   "source": [
    "# add color interpretation for raster bands \n",
    "from osgeo import gdal\n",
    "# Open the raster dataset\n",
    "dataset = gdal.Open(sen_raster_path, gdal.GA_Update)\n",
    "\n",
    "# Set color interpretation for a specific band (e.g., band 1)\n",
    "band = dataset.GetRasterBand(1)\n",
    "band.SetColorInterpretation(gdal.GCI_RedBand)  # Set as red band\n",
    "\n",
    "band = dataset.GetRasterBand(2)\n",
    "band.SetColorInterpretation(gdal.GCI_GreenBand)  # Set as green band\n",
    "\n",
    "band = dataset.GetRasterBand(3)\n",
    "band.SetColorInterpretation(gdal.GCI_BlueBand)  # Set as blue band\n",
    "# Close the dataset to save changes\n",
    "dataset = None"
   ]
  },
  {
   "cell_type": "markdown",
   "metadata": {},
   "source": [
    "3. Count bands, print band information, check whether it has NIR band"
   ]
  },
  {
   "cell_type": "code",
   "execution_count": null,
   "metadata": {},
   "outputs": [],
   "source": [
    "# this is not from watnet, wanted to check the bands \n",
    "def count_bands(tif_path):\n",
    "    try:\n",
    "        dataset = gdal.Open(tif_path)\n",
    "        if dataset is None:\n",
    "            print(\"Unable to open\", tif_path)\n",
    "            return None\n",
    "        else:\n",
    "            num_bands = dataset.RasterCount\n",
    "            print(\"Number of bands:\", num_bands)\n",
    "            return num_bands\n",
    "    except Exception as e:\n",
    "        print(\"Error:\", e)\n",
    "\n",
    "def print_band_info(tif_path):\n",
    "    try:\n",
    "        dataset = gdal.Open(tif_path)\n",
    "        if dataset is None:\n",
    "            print(\"Unable to open\", tif_path)\n",
    "            return None\n",
    "        else:\n",
    "            num_bands = dataset.RasterCount\n",
    "            print(\"Number of bands:\", num_bands)\n",
    "            for band_num in range(1, num_bands + 1):\n",
    "                band = dataset.GetRasterBand(band_num)\n",
    "                print(\"Band\", band_num, \"information:\")\n",
    "                print(\"  Type:\", gdal.GetDataTypeName(band.DataType))\n",
    "                print(\"  Minimum value:\", band.GetMinimum())\n",
    "                print(\"  Maximum value:\", band.GetMaximum())\n",
    "                print(\"  NoData value:\", band.GetNoDataValue())\n",
    "                print(\"  Color interpretation:\", gdal.GetColorInterpretationName(band.GetColorInterpretation()))\n",
    "                print(\"  Scale factor:\", band.GetScale())\n",
    "                print(\"  Offset:\", band.GetOffset())\n",
    "                print(\"  Unit type:\", band.GetUnitType())\n",
    "                print(\"  Metadata:\", band.GetMetadata())\n",
    "                print(\"  Description:\", band.GetDescription())\n",
    "                print(\"\")\n",
    "\n",
    "    except Exception as e:\n",
    "        print(\"Error:\", e)\n",
    "\n",
    "def check_nir_band(raster_path):\n",
    "    # Open the raster dataset\n",
    "    dataset = gdal.Open(raster_path)\n",
    "\n",
    "    if dataset is None:\n",
    "        print(\"Error: Unable to open raster dataset.\")\n",
    "        return False\n",
    "\n",
    "    # Get the number of bands\n",
    "    num_bands = dataset.RasterCount\n",
    "\n",
    "    # Check if the NIR band is present\n",
    "    for i in range(1, num_bands + 1):\n",
    "        band = dataset.GetRasterBand(i)\n",
    "        metadata = band.GetMetadata()\n",
    "\n",
    "        # Check the band description or color interpretation\n",
    "        band_desc = metadata.get('description', '')\n",
    "        color_interp = band.GetColorInterpretation()\n",
    "\n",
    "        if 'NIR' in band_desc or color_interp == gdal.GCI_GrayIndex:\n",
    "            print(f\"NIR band found in band {i}.\")\n",
    "            return True\n",
    "\n",
    "    print(\"NIR band not found in the raster.\")\n",
    "    return False"
   ]
  },
  {
   "cell_type": "markdown",
   "metadata": {},
   "source": [
    "4. composite "
   ]
  },
  {
   "cell_type": "code",
   "execution_count": null,
   "metadata": {},
   "outputs": [],
   "source": [
    "# composite raster \n",
    "import arcpy\n",
    "arcpy.management.CompositeBands(\n",
    "    in_rasters=\"2021-07-10-00_00_2021-07-10-23_59_Sentinel-2_L2A_B04_(Raw).tiff;2021-07-10-00_00_2021-07-10-23_59_Sentinel-2_L2A_B03_(Raw).tiff;2021-07-10-00_00_2021-07-10-23_59_Sentinel-2_L2A_B02_(Raw).tiff;2021-07-10-00_00_2021-07-10-23_59_Sentinel-2_L2A_B08_(Raw).tiff;2021-07-10-00_00_2021-07-10-23_59_Sentinel-2_L2A_B11_(Raw).tiff;2021-07-10-00_00_2021-07-10-23_59_Sentinel-2_L2A_B12_(Raw).tiff\",\n",
    "    out_raster=r\"H:\\My Drive\\Projects\\Beavers\\Beaver_EarthEngine\\Sentinel2_6Bands_WatNet\\Browser_images\\compositeBand_20210710_polygonA.tif\"\n",
    ")"
   ]
  }
 ],
 "metadata": {
  "language_info": {
   "name": "python"
  }
 },
 "nbformat": 4,
 "nbformat_minor": 2
}
